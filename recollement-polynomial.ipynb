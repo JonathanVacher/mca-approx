{
 "cells": [
  {
   "cell_type": "code",
   "execution_count": 1,
   "metadata": {},
   "outputs": [],
   "source": [
    "import numpy as np\n",
    "import matplotlib.pyplot as plt\n",
    "import scipy.linalg as linalg\n",
    "import scipy.stats as st\n",
    "\n",
    "np.set_printoptions(linewidth=180)"
   ]
  },
  {
   "cell_type": "code",
   "execution_count": 2,
   "metadata": {},
   "outputs": [
    {
     "name": "stdout",
     "output_type": "stream",
     "text": [
      "{a: (35*x + 35*y)/(x**9 - 9*x**8*y + 36*x**7*y**2 - 84*x**6*y**3 + 126*x**5*y**4 - 126*x**4*y**5 + 84*x**3*y**6 - 36*x**2*y**7 + 9*x*y**8 - y**9), b: (-160*x**2 - 310*x*y - 160*y**2)/(x**9 - 9*x**8*y + 36*x**7*y**2 - 84*x**6*y**3 + 126*x**5*y**4 - 126*x**4*y**5 + 84*x**3*y**6 - 36*x**2*y**7 + 9*x*y**8 - y**9), c: (280*x**3 + 980*x**2*y + 980*x*y**2 + 280*y**3)/(x**9 - 9*x**8*y + 36*x**7*y**2 - 84*x**6*y**3 + 126*x**5*y**4 - 126*x**4*y**5 + 84*x**3*y**6 - 36*x**2*y**7 + 9*x*y**8 - y**9), d: (-224*x**4 - 1484*x**3*y - 2464*x**2*y**2 - 1484*x*y**3 - 224*y**4)/(x**9 - 9*x**8*y + 36*x**7*y**2 - 84*x**6*y**3 + 126*x**5*y**4 - 126*x**4*y**5 + 84*x**3*y**6 - 36*x**2*y**7 + 9*x*y**8 - y**9), e: (70*x**5 + 1120*x**4*y + 3220*x**3*y**2 + 3220*x**2*y**3 + 1120*x*y**4 + 70*y**5)/(x**9 - 9*x**8*y + 36*x**7*y**2 - 84*x**6*y**3 + 126*x**5*y**4 - 126*x**4*y**5 + 84*x**3*y**6 - 36*x**2*y**7 + 9*x*y**8 - y**9), f: (-350*x**5*y - 2240*x**4*y**2 - 3640*x**3*y**3 - 2240*x**2*y**4 - 350*x*y**5)/(x**9 - 9*x**8*y + 36*x**7*y**2 - 84*x**6*y**3 + 126*x**5*y**4 - 126*x**4*y**5 + 84*x**3*y**6 - 36*x**2*y**7 + 9*x*y**8 - y**9), g: (700*x**5*y**2 + 2240*x**4*y**3 + 2240*x**3*y**4 + 700*x**2*y**5)/(x**9 - 9*x**8*y + 36*x**7*y**2 - 84*x**6*y**3 + 126*x**5*y**4 - 126*x**4*y**5 + 84*x**3*y**6 - 36*x**2*y**7 + 9*x*y**8 - y**9), h: (-700*x**5*y**3 - 1120*x**4*y**4 - 700*x**3*y**5)/(x**9 - 9*x**8*y + 36*x**7*y**2 - 84*x**6*y**3 + 126*x**5*y**4 - 126*x**4*y**5 + 84*x**3*y**6 - 36*x**2*y**7 + 9*x*y**8 - y**9), i: (350*x**5*y**4 + 224*x**4*y**5 + 84*x**3*y**6 - 36*x**2*y**7 + 9*x*y**8 - y**9)/(x**9 - 9*x**8*y + 36*x**7*y**2 - 84*x**6*y**3 + 126*x**5*y**4 - 126*x**4*y**5 + 84*x**3*y**6 - 36*x**2*y**7 + 9*x*y**8 - y**9), j: -70*x**5*y**5/(x**9 - 9*x**8*y + 36*x**7*y**2 - 84*x**6*y**3 + 126*x**5*y**4 - 126*x**4*y**5 + 84*x**3*y**6 - 36*x**2*y**7 + 9*x*y**8 - y**9)}\n",
      "-38500005363.2138\n"
     ]
    }
   ],
   "source": [
    "import sympy as sp\n",
    "\n",
    "# Define the variables\n",
    "a, b, c, d, e, f, g, h, i, j = sp.symbols('a b c d e f g h i j')\n",
    "x, y = sp.symbols('x y')\n",
    "\n",
    "\n",
    "# solution : collé a l'indentité en x, collé à la fonction zero en y, dérivable 4 fois\n",
    "# Define the equations\n",
    "\n",
    "eq1 = a*x**9 + b*x**8 + c*x**7 + d*x**6 + e*x**5 + f*x**4 + g*x**3 + h*x**2 + (i-1)*x + j\n",
    "eq2 = 9*a*x**8 + 8*b*x**7 + 7*c*x**6 + 6*d*x**5 + 5*e*x**4 + 4*f*x**3 + 3*g*x**2 + 2*h*x + i - 1\n",
    "eq3 = 72*a*x**7 + 56*b*x**6 + 42*c*x**5 + 30*d*x**4 + 20*e*x**3 + 12*f*x**2 + 6*g*x + 2*h\n",
    "eq4 = 504*a*x**6 + 336*b*x**5 + 210*c*x**4 + 120*d*x**3 + 60*e*x**2 + 24*f*x + 6*g\n",
    "eq5 = 3024*a*x**5 + 1680*b*x**4 + 840*c*x**3 + 360*d*x**2 + 120*e*x + 24*f\n",
    "\n",
    "eq6 = a*y**9 + b*y**8 + c*y**7 + d*y**6 + e*y**5 + f*y**4 + g*y**3 + h*y**2 + i*y + j\n",
    "eq7 = 9*a*y**8 + 8*b*y**7 + 7*c*y**6 + 6*d*y**5 + 5*e*y**4 + 4*f*y**3 + 3*g*y**2 + 2*h*y + i\n",
    "eq8 = 72*a*y**7 + 56*b*y**6 + 42*c*y**5 + 30*d*y**4 + 20*e*y**3 + 12*f*y**2 + 6*g*y + 2*h\n",
    "eq9 = 504*a*y**6 + 336*b*y**5 + 210*c*y**4 + 120*d*y**3 + 60*e*y**2 + 24*f*y + 6*g\n",
    "eq10 = 3024*a*y**5 + 1680*b*y**4 + 840*c*y**3 + 360*d*y**2 + 120*e*y + 24*f\n",
    "\n",
    "# Solve the system of equations\n",
    "solution = sp.solve((eq1, eq2, eq3, eq4, eq5, eq6, eq7, eq8, eq9, eq10), (a, b, c, d, e, f, g, h, i, j))\n",
    "\n",
    "print(solution)\n",
    "\n",
    "print(solution[a].subs([(x,0.5),(y,0.6)]))"
   ]
  },
  {
   "cell_type": "code",
   "execution_count": 15,
   "metadata": {},
   "outputs": [
    {
     "name": "stdout",
     "output_type": "stream",
     "text": [
      "[a0 + a1*x + a10*x**10 + a11*x**11 + a12*x**12 + a13*x**13 + a14*x**14 + a15*x**15 + a2*x**2 + a3*x**3 + a4*x**4 + a5*x**5 + a6*x**6 + a7*x**7 + a8*x**8 + a9*x**9 - x, a1 + 10*a10*x**9 + 11*a11*x**10 + 12*a12*x**11 + 13*a13*x**12 + 14*a14*x**13 + 15*a15*x**14 + 2*a2*x + 3*a3*x**2 + 4*a4*x**3 + 5*a5*x**4 + 6*a6*x**5 + 7*a7*x**6 + 8*a8*x**7 + 9*a9*x**8 - 1, 90*a10*x**8 + 110*a11*x**9 + 132*a12*x**10 + 156*a13*x**11 + 182*a14*x**12 + 210*a15*x**13 + 2*a2 + 6*a3*x + 12*a4*x**2 + 20*a5*x**3 + 30*a6*x**4 + 42*a7*x**5 + 56*a8*x**6 + 72*a9*x**7, 720*a10*x**7 + 990*a11*x**8 + 1320*a12*x**9 + 1716*a13*x**10 + 2184*a14*x**11 + 2730*a15*x**12 + 6*a3 + 24*a4*x + 60*a5*x**2 + 120*a6*x**3 + 210*a7*x**4 + 336*a8*x**5 + 504*a9*x**6, 5040*a10*x**6 + 7920*a11*x**7 + 11880*a12*x**8 + 17160*a13*x**9 + 24024*a14*x**10 + 32760*a15*x**11 + 24*a4 + 120*a5*x + 360*a6*x**2 + 840*a7*x**3 + 1680*a8*x**4 + 3024*a9*x**5, 30240*a10*x**5 + 55440*a11*x**6 + 95040*a12*x**7 + 154440*a13*x**8 + 240240*a14*x**9 + 360360*a15*x**10 + 120*a5 + 720*a6*x + 2520*a7*x**2 + 6720*a8*x**3 + 15120*a9*x**4, 151200*a10*x**4 + 332640*a11*x**5 + 665280*a12*x**6 + 1235520*a13*x**7 + 2162160*a14*x**8 + 3603600*a15*x**9 + 720*a6 + 5040*a7*x + 20160*a8*x**2 + 60480*a9*x**3, 604800*a10*x**3 + 1663200*a11*x**4 + 3991680*a12*x**5 + 8648640*a13*x**6 + 17297280*a14*x**7 + 32432400*a15*x**8 + 5040*a7 + 40320*a8*x + 181440*a9*x**2, a0 + a1*y + a10*y**10 + a11*y**11 + a12*y**12 + a13*y**13 + a14*y**14 + a15*y**15 + a2*y**2 + a3*y**3 + a4*y**4 + a5*y**5 + a6*y**6 + a7*y**7 + a8*y**8 + a9*y**9, a1 + 10*a10*y**9 + 11*a11*y**10 + 12*a12*y**11 + 13*a13*y**12 + 14*a14*y**13 + 15*a15*y**14 + 2*a2*y + 3*a3*y**2 + 4*a4*y**3 + 5*a5*y**4 + 6*a6*y**5 + 7*a7*y**6 + 8*a8*y**7 + 9*a9*y**8, 90*a10*y**8 + 110*a11*y**9 + 132*a12*y**10 + 156*a13*y**11 + 182*a14*y**12 + 210*a15*y**13 + 2*a2 + 6*a3*y + 12*a4*y**2 + 20*a5*y**3 + 30*a6*y**4 + 42*a7*y**5 + 56*a8*y**6 + 72*a9*y**7, 720*a10*y**7 + 990*a11*y**8 + 1320*a12*y**9 + 1716*a13*y**10 + 2184*a14*y**11 + 2730*a15*y**12 + 6*a3 + 24*a4*y + 60*a5*y**2 + 120*a6*y**3 + 210*a7*y**4 + 336*a8*y**5 + 504*a9*y**6, 5040*a10*y**6 + 7920*a11*y**7 + 11880*a12*y**8 + 17160*a13*y**9 + 24024*a14*y**10 + 32760*a15*y**11 + 24*a4 + 120*a5*y + 360*a6*y**2 + 840*a7*y**3 + 1680*a8*y**4 + 3024*a9*y**5, 30240*a10*y**5 + 55440*a11*y**6 + 95040*a12*y**7 + 154440*a13*y**8 + 240240*a14*y**9 + 360360*a15*y**10 + 120*a5 + 720*a6*y + 2520*a7*y**2 + 6720*a8*y**3 + 15120*a9*y**4, 151200*a10*y**4 + 332640*a11*y**5 + 665280*a12*y**6 + 1235520*a13*y**7 + 2162160*a14*y**8 + 3603600*a15*y**9 + 720*a6 + 5040*a7*y + 20160*a8*y**2 + 60480*a9*y**3, 604800*a10*y**3 + 1663200*a11*y**4 + 3991680*a12*y**5 + 8648640*a13*y**6 + 17297280*a14*y**7 + 32432400*a15*y**8 + 5040*a7 + 40320*a8*y + 181440*a9*y**2]\n",
      "(a0, a1, a2, a3, a4, a5, a6, a7, a8, a9, a10, a11, a12, a13, a14, a15)\n",
      "{a0: 3432*x**8*y**8/(x**15 - 15*x**14*y + 105*x**13*y**2 - 455*x**12*y**3 + 1365*x**11*y**4 - 3003*x**10*y**5 + 5005*x**9*y**6 - 6435*x**8*y**7 + 6435*x**7*y**8 - 5005*x**6*y**9 + 3003*x**5*y**10 - 1365*x**4*y**11 + 455*x**3*y**12 - 105*x**2*y**13 + 15*x*y**14 - y**15), a1: (-27456*x**8*y**7 - 21021*x**7*y**8 - 5005*x**6*y**9 + 3003*x**5*y**10 - 1365*x**4*y**11 + 455*x**3*y**12 - 105*x**2*y**13 + 15*x*y**14 - y**15)/(x**15 - 15*x**14*y + 105*x**13*y**2 - 455*x**12*y**3 + 1365*x**11*y**4 - 3003*x**10*y**5 + 5005*x**9*y**6 - 6435*x**8*y**7 + 6435*x**7*y**8 - 5005*x**6*y**9 + 3003*x**5*y**10 - 1365*x**4*y**11 + 455*x**3*y**12 - 105*x**2*y**13 + 15*x*y**14 - y**15), a10: (56056*x**6 + 696696*x**5*y + 2522520*x**4*y**2 + 3755752*x**3*y**3 + 2522520*x**2*y**4 + 696696*x*y**5 + 56056*y**6)/(x**15 - 15*x**14*y + 105*x**13*y**2 - 455*x**12*y**3 + 1365*x**11*y**4 - 3003*x**10*y**5 + 5005*x**9*y**6 - 6435*x**8*y**7 + 6435*x**7*y**8 - 5005*x**6*y**9 + 3003*x**5*y**10 - 1365*x**4*y**11 + 455*x**3*y**12 - 105*x**2*y**13 + 15*x*y**14 - y**15), a11: (-84084*x**5 - 660660*x**4*y - 1597596*x**3*y**2 - 1597596*x**2*y**3 - 660660*x*y**4 - 84084*y**5)/(x**15 - 15*x**14*y + 105*x**13*y**2 - 455*x**12*y**3 + 1365*x**11*y**4 - 3003*x**10*y**5 + 5005*x**9*y**6 - 6435*x**8*y**7 + 6435*x**7*y**8 - 5005*x**6*y**9 + 3003*x**5*y**10 - 1365*x**4*y**11 + 455*x**3*y**12 - 105*x**2*y**13 + 15*x*y**14 - y**15), a12: (76440*x**4 + 390936*x**3*y + 626808*x**2*y**2 + 390936*x*y**3 + 76440*y**4)/(x**15 - 15*x**14*y + 105*x**13*y**2 - 455*x**12*y**3 + 1365*x**11*y**4 - 3003*x**10*y**5 + 5005*x**9*y**6 - 6435*x**8*y**7 + 6435*x**7*y**8 - 5005*x**6*y**9 + 3003*x**5*y**10 - 1365*x**4*y**11 + 455*x**3*y**12 - 105*x**2*y**13 + 15*x*y**14 - y**15), a13: (-42042*x**3 - 138138*x**2*y - 138138*x*y**2 - 42042*y**3)/(x**15 - 15*x**14*y + 105*x**13*y**2 - 455*x**12*y**3 + 1365*x**11*y**4 - 3003*x**10*y**5 + 5005*x**9*y**6 - 6435*x**8*y**7 + 6435*x**7*y**8 - 5005*x**6*y**9 + 3003*x**5*y**10 - 1365*x**4*y**11 + 455*x**3*y**12 - 105*x**2*y**13 + 15*x*y**14 - y**15), a14: (12936*x**2 + 25608*x*y + 12936*y**2)/(x**15 - 15*x**14*y + 105*x**13*y**2 - 455*x**12*y**3 + 1365*x**11*y**4 - 3003*x**10*y**5 + 5005*x**9*y**6 - 6435*x**8*y**7 + 6435*x**7*y**8 - 5005*x**6*y**9 + 3003*x**5*y**10 - 1365*x**4*y**11 + 455*x**3*y**12 - 105*x**2*y**13 + 15*x*y**14 - y**15), a15: (-1716*x - 1716*y)/(x**15 - 15*x**14*y + 105*x**13*y**2 - 455*x**12*y**3 + 1365*x**11*y**4 - 3003*x**10*y**5 + 5005*x**9*y**6 - 6435*x**8*y**7 + 6435*x**7*y**8 - 5005*x**6*y**9 + 3003*x**5*y**10 - 1365*x**4*y**11 + 455*x**3*y**12 - 105*x**2*y**13 + 15*x*y**14 - y**15), a2: (96096*x**8*y**6 + 168168*x**7*y**7 + 96096*x**6*y**8)/(x**15 - 15*x**14*y + 105*x**13*y**2 - 455*x**12*y**3 + 1365*x**11*y**4 - 3003*x**10*y**5 + 5005*x**9*y**6 - 6435*x**8*y**7 + 6435*x**7*y**8 - 5005*x**6*y**9 + 3003*x**5*y**10 - 1365*x**4*y**11 + 455*x**3*y**12 - 105*x**2*y**13 + 15*x*y**14 - y**15), a3: (-192192*x**8*y**5 - 588588*x**7*y**6 - 588588*x**6*y**7 - 192192*x**5*y**8)/(x**15 - 15*x**14*y + 105*x**13*y**2 - 455*x**12*y**3 + 1365*x**11*y**4 - 3003*x**10*y**5 + 5005*x**9*y**6 - 6435*x**8*y**7 + 6435*x**7*y**8 - 5005*x**6*y**9 + 3003*x**5*y**10 - 1365*x**4*y**11 + 455*x**3*y**12 - 105*x**2*y**13 + 15*x*y**14 - y**15), a4: (240240*x**8*y**4 + 1177176*x**7*y**5 + 1849848*x**6*y**6 + 1177176*x**5*y**7 + 240240*x**4*y**8)/(x**15 - 15*x**14*y + 105*x**13*y**2 - 455*x**12*y**3 + 1365*x**11*y**4 - 3003*x**10*y**5 + 5005*x**9*y**6 - 6435*x**8*y**7 + 6435*x**7*y**8 - 5005*x**6*y**9 + 3003*x**5*y**10 - 1365*x**4*y**11 + 455*x**3*y**12 - 105*x**2*y**13 + 15*x*y**14 - y**15), a5: (-192192*x**8*y**3 - 1471470*x**7*y**4 - 3489486*x**6*y**5 - 3489486*x**5*y**6 - 1471470*x**4*y**7 - 192192*x**3*y**8)/(x**15 - 15*x**14*y + 105*x**13*y**2 - 455*x**12*y**3 + 1365*x**11*y**4 - 3003*x**10*y**5 + 5005*x**9*y**6 - 6435*x**8*y**7 + 6435*x**7*y**8 - 5005*x**6*y**9 + 3003*x**5*y**10 - 1365*x**4*y**11 + 455*x**3*y**12 - 105*x**2*y**13 + 15*x*y**14 - y**15), a6: (96096*x**8*y**2 + 1177176*x**7*y**3 + 4204200*x**6*y**4 + 6222216*x**5*y**5 + 4204200*x**4*y**6 + 1177176*x**3*y**7 + 96096*x**2*y**8)/(x**15 - 15*x**14*y + 105*x**13*y**2 - 455*x**12*y**3 + 1365*x**11*y**4 - 3003*x**10*y**5 + 5005*x**9*y**6 - 6435*x**8*y**7 + 6435*x**7*y**8 - 5005*x**6*y**9 + 3003*x**5*y**10 - 1365*x**4*y**11 + 455*x**3*y**12 - 105*x**2*y**13 + 15*x*y**14 - y**15), a7: (-27456*x**8*y - 588588*x**7*y**2 - 3279276*x**6*y**3 - 7147140*x**5*y**4 - 7147140*x**4*y**5 - 3279276*x**3*y**6 - 588588*x**2*y**7 - 27456*x*y**8)/(x**15 - 15*x**14*y + 105*x**13*y**2 - 455*x**12*y**3 + 1365*x**11*y**4 - 3003*x**10*y**5 + 5005*x**9*y**6 - 6435*x**8*y**7 + 6435*x**7*y**8 - 5005*x**6*y**9 + 3003*x**5*y**10 - 1365*x**4*y**11 + 455*x**3*y**12 - 105*x**2*y**13 + 15*x*y**14 - y**15), a8: (3432*x**8 + 168168*x**7*y + 1609608*x**6*y**2 + 5357352*x**5*y**3 + 7807800*x**4*y**4 + 5357352*x**3*y**5 + 1609608*x**2*y**6 + 168168*x*y**7 + 3432*y**8)/(x**15 - 15*x**14*y + 105*x**13*y**2 - 455*x**12*y**3 + 1365*x**11*y**4 - 3003*x**10*y**5 + 5005*x**9*y**6 - 6435*x**8*y**7 + 6435*x**7*y**8 - 5005*x**6*y**9 + 3003*x**5*y**10 - 1365*x**4*y**11 + 455*x**3*y**12 - 105*x**2*y**13 + 15*x*y**14 - y**15), a9: (-21021*x**7 - 453453*x**6*y - 2543541*x**5*y**2 - 5570565*x**4*y**3 - 5570565*x**3*y**4 - 2543541*x**2*y**5 - 453453*x*y**6 - 21021*y**7)/(x**15 - 15*x**14*y + 105*x**13*y**2 - 455*x**12*y**3 + 1365*x**11*y**4 - 3003*x**10*y**5 + 5005*x**9*y**6 - 6435*x**8*y**7 + 6435*x**7*y**8 - 5005*x**6*y**9 + 3003*x**5*y**10 - 1365*x**4*y**11 + 455*x**3*y**12 - 105*x**2*y**13 + 15*x*y**14 - y**15)}\n"
     ]
    }
   ],
   "source": [
    "degree = 15\n",
    "\n",
    "numEquations = degree+1\n",
    "\n",
    "symbol_tab = sp.symbols('a0:%d'%numEquations)\n",
    "x, y = sp.symbols('x y')\n",
    "\n",
    "eq_tab = [0]*numEquations\n",
    "\n",
    "new_factor = 1\n",
    "for ii in range(int(numEquations/2)):\n",
    "    for jj in range(numEquations):\n",
    "        # if ii == 0:\n",
    "        #     factor = 1\n",
    "        # else:\n",
    "        factor = 1\n",
    "        for kk in range(-ii+1,1):\n",
    "            factor = factor*(jj+kk)      \n",
    "        eq_tab[ii] += factor*symbol_tab[jj]*x**(jj-ii)\n",
    "eq_tab[0] = eq_tab[0]-x\n",
    "eq_tab[1] = eq_tab[1]-1\n",
    "\n",
    "for ii in range(int(numEquations/2)):\n",
    "    for jj in range(numEquations):\n",
    "        if ii == 0:\n",
    "            factor = 1\n",
    "        else:\n",
    "            factor = 1\n",
    "            for kk in range(-ii+1,1):\n",
    "                factor = factor*(jj+kk)      \n",
    "        eq_tab[ii+int(numEquations/2)] += factor*symbol_tab[jj]*y**(jj-ii)\n",
    "\n",
    "\n",
    "solution_tab = sp.solve(eq_tab, symbol_tab)\n",
    "print(eq_tab)\n",
    "print(symbol_tab)\n",
    "print(solution_tab)\n",
    "# print(solution_tab[symbol_tab[9]])"
   ]
  },
  {
   "cell_type": "code",
   "execution_count": 16,
   "metadata": {},
   "outputs": [],
   "source": [
    "alpha = 0.5\n",
    "beta = 1.0\n",
    "\n",
    "a_d = solution[a].subs([(x,alpha),(y,beta)])\n",
    "b_d = solution[b].subs([(x,alpha),(y,beta)])\n",
    "c_d = solution[c].subs([(x,alpha),(y,beta)])\n",
    "d_d = solution[d].subs([(x,alpha),(y,beta)])\n",
    "e_d = solution[e].subs([(x,alpha),(y,beta)])\n",
    "f_d = solution[f].subs([(x,alpha),(y,beta)])\n",
    "g_d = solution[g].subs([(x,alpha),(y,beta)])\n",
    "h_d = solution[h].subs([(x,alpha),(y,beta)])\n",
    "i_d = solution[i].subs([(x,alpha),(y,beta)])\n",
    "j_d = solution[j].subs([(x,alpha),(y,beta)])\n",
    "\n",
    "a_g = solution[a].subs([(x,-alpha),(y,-beta)])\n",
    "b_g = solution[b].subs([(x,-alpha),(y,-beta)])\n",
    "c_g = solution[c].subs([(x,-alpha),(y,-beta)])\n",
    "d_g = solution[d].subs([(x,-alpha),(y,-beta)])\n",
    "e_g = solution[e].subs([(x,-alpha),(y,-beta)])\n",
    "f_g = solution[f].subs([(x,-alpha),(y,-beta)])\n",
    "g_g = solution[g].subs([(x,-alpha),(y,-beta)])\n",
    "h_g = solution[h].subs([(x,-alpha),(y,-beta)])\n",
    "i_g = solution[i].subs([(x,-alpha),(y,-beta)])\n",
    "j_g = solution[j].subs([(x,-alpha),(y,-beta)])\n",
    "\n",
    "\n",
    "\n",
    "def fp(x):\n",
    "    if x <= -beta :\n",
    "        return 0\n",
    "    if -beta <= x <= -alpha:\n",
    "        return a_g*x**9 + b_g*x**8 + c_g*x**7 + d_g*x**6 + e_g*x**5 + f_g*x**4 + g_g*x**3 + h_g*x**2 + i_g*x + j_g\n",
    "    if -alpha <= x <= alpha:\n",
    "        return x\n",
    "    if alpha <= x <= beta:\n",
    "        return a_d*x**9 + b_d*x**8 + c_d*x**7 + d_d*x**6 + e_d*x**5 + f_d*x**4 + g_d*x**3 + h_d*x**2 + i_d*x + j_d\n",
    "    if beta <= x :\n",
    "        return 0"
   ]
  },
  {
   "cell_type": "code",
   "execution_count": 17,
   "metadata": {},
   "outputs": [],
   "source": [
    "alpha = 0.5\n",
    "beta = 1.0\n",
    "\n",
    "coef_d = [0]*numEquations\n",
    "coef_g = [0]*numEquations\n",
    "\n",
    "for ind in range(numEquations):\n",
    "    coef_d[ind]=solution_tab[symbol_tab[ind]].subs([(x,alpha),(y,beta)])\n",
    "    coef_g[ind]=solution_tab[symbol_tab[ind]].subs([(x,-alpha),(y,-beta)])\n",
    "# print(solution[symbol_tab[0]])\n",
    "\n",
    "\n",
    "\n",
    "\n",
    "def fp_tab(x):\n",
    "    if x <= -beta :\n",
    "        return 0\n",
    "    if -beta <= x <= -alpha:\n",
    "        # return a_g*x**9 + b_g*x**8 + c_g*x**7 + d_g*x**6 + e_g*x**5 + f_g*x**4 + g_g*x**3 + h_g*x**2 + i_g*x + j_g\n",
    "        res = 0\n",
    "        for ii in range(numEquations):\n",
    "            res = res + coef_g[ii]*x**(ii)\n",
    "        return res\n",
    "        # return a_g*x**9 + b_g*x**8 + c_g*x**7 + d_g*x**6 + e_g*x**5 + f_g*x**4 + g_g*x**3 + h_g*x**2 + i_g*x + j_g \n",
    "        # return res\n",
    "    if -alpha <= x <= alpha:\n",
    "        return x\n",
    "    if alpha <= x <= beta:\n",
    "        # return a_d*x**9 + b_d*x**8 + c_d*x**7 + d_d*x**6 + e_d*x**5 + f_d*x**4 + g_d*x**3 + h_d*x**2 + i_d*x + j_d\n",
    "        res = 0\n",
    "        for ii in range(numEquations):\n",
    "            res = res + coef_d[ii]*x**(ii)\n",
    "        return res\n",
    "    if beta <= x :\n",
    "        return 0\n",
    "    \n"
   ]
  },
  {
   "cell_type": "code",
   "execution_count": 18,
   "metadata": {},
   "outputs": [
    {
     "name": "stdout",
     "output_type": "stream",
     "text": [
      "0.549303322492051\n"
     ]
    },
    {
     "data": {
      "image/png": "[encoded data removed]",
      "text/plain": [
       "<Figure size 640x480 with 1 Axes>"
      ]
     },
     "metadata": {},
     "output_type": "display_data"
    }
   ],
   "source": [
    "\n",
    "print(fp(0.55))\n",
    "\n",
    "xx = np.linspace(-1, 1, 1000)\n",
    "pfxx = np.empty(np.shape(xx))\n",
    "pfxx2 = np.empty(np.shape(xx))\n",
    "\n",
    "for ii,v in enumerate(xx):\n",
    "    pfxx[ii] = fp_tab(v) # degre 15\n",
    "    pfxx2[ii] = fp(v) #degre 9\n",
    "\n",
    "\n",
    "plt.plot(xx,pfxx)\n",
    "plt.plot(xx,pfxx2)\n",
    "plt.show()\n",
    "\n",
    "# plt.plot(X_states_space,fp(X_states_space,0.5,0.6))\n",
    "\n",
    "\n",
    "\n",
    "\n",
    "\n"
   ]
  },
  {
   "cell_type": "code",
   "execution_count": null,
   "metadata": {},
   "outputs": [],
   "source": [
    "\n",
    "\n"
   ]
  }
 ],
 "metadata": {
  "kernelspec": {
   "display_name": "base310",
   "language": "python",
   "name": "python3"
  },
  "language_info": {
   "codemirror_mode": {
    "name": "ipython",
    "version": 3
   },
   "file_extension": ".py",
   "mimetype": "text/x-python",
   "name": "python",
   "nbconvert_exporter": "python",
   "pygments_lexer": "ipython3",
   "version": "3.8.10"
  }
 },
 "nbformat": 4,
 "nbformat_minor": 2
}
